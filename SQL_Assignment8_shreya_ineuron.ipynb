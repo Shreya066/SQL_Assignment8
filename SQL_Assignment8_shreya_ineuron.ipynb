{
 "cells": [
  {
   "cell_type": "markdown",
   "id": "bbc52a8c",
   "metadata": {},
   "source": [
    "**Q1. Write an SQL query to fetch intersecting records of two tables.**"
   ]
  },
  {
   "cell_type": "markdown",
   "id": "10318c35",
   "metadata": {},
   "source": [
    "Select distinct column_list from table_1 where column_name in (select column_list from table_2);"
   ]
  },
  {
   "cell_type": "markdown",
   "id": "808dd8b8",
   "metadata": {},
   "source": [
    "**Q2. Write an SQL query to show records from one table that another table does not have.**"
   ]
  },
  {
   "cell_type": "markdown",
   "id": "2e833fb3",
   "metadata": {},
   "source": [
    "Select distinct column_list from table_1 where column_name not in (select column_list from table_2);"
   ]
  }
 ],
 "metadata": {
  "kernelspec": {
   "display_name": "Python 3 (ipykernel)",
   "language": "python",
   "name": "python3"
  },
  "language_info": {
   "codemirror_mode": {
    "name": "ipython",
    "version": 3
   },
   "file_extension": ".py",
   "mimetype": "text/x-python",
   "name": "python",
   "nbconvert_exporter": "python",
   "pygments_lexer": "ipython3",
   "version": "3.9.7"
  }
 },
 "nbformat": 4,
 "nbformat_minor": 5
}
